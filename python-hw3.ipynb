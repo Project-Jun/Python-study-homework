{
 "cells": [
  {
   "cell_type": "markdown",
   "metadata": {},
   "source": [
    "# Python-HW3\n",
    "### 이름:\n",
    "### 학번:"
   ]
  },
  {
   "cell_type": "markdown",
   "metadata": {},
   "source": [
    "1) 다음 리스트에 들어 있는 값의 평균을 구해 소수점 1째자리까지 계산하는 프로그램을 작성하라\n",
    "\n",
    "<출력>   \n",
    "평균 = 83.3"
   ]
  },
  {
   "cell_type": "code",
   "execution_count": null,
   "metadata": {},
   "outputs": [],
   "source": [
    "# 코드\n",
    "grade = [73, 85, 92]\n",
    "average =     # 평균 계산\n",
    "print()   # 출력"
   ]
  },
  {
   "cell_type": "markdown",
   "metadata": {},
   "source": [
    "2) 정수를 입력받아 몫과 나머지를 계산하여 아래와 같이 출력하는 프로그램을 작성하라.\n",
    "\n",
    "<입출력>   \n",
    "정수를 입력하세요... 12345   \n",
    "나눌 정수를 입력하세요...7   \n",
    "12345 / 7 = 7 x 1763 + 4 "
   ]
  },
  {
   "cell_type": "code",
   "execution_count": null,
   "metadata": {},
   "outputs": [],
   "source": [
    "# 코드\n",
    "a =    # 입력 1\n",
    "b =    # 입력 2\n",
    "q =    # 몫\n",
    "r =    # 나머지\n",
    "print()   # 출력"
   ]
  },
  {
   "cell_type": "markdown",
   "metadata": {},
   "source": [
    "3) 다음 값 중에서 실수로 표시해야 할 것은 어떤 것인가?   \n",
    "주택의 방의 갯수, 과목의 수강 인원, 라면 한 봉지의 무게, 자동차의 속도, 생년월일"
   ]
  },
  {
   "cell_type": "markdown",
   "metadata": {},
   "source": [
    "<답> "
   ]
  },
  {
   "cell_type": "markdown",
   "metadata": {},
   "source": [
    "4) 아래 주민등록번호(id)에서 생일을 구하여 아래와 같이 출력하라.   \n",
    "\n",
    "<출력>   \n",
    "생일은 11월 05일 입니다."
   ]
  },
  {
   "cell_type": "code",
   "execution_count": null,
   "metadata": {},
   "outputs": [],
   "source": [
    "# 코드\n",
    "id = \"851105-1068234\"\n",
    "month =   # 월 슬라이싱\n",
    "day =     # 날짜 슬라이싱\n",
    "print()   # 출력"
   ]
  },
  {
   "cell_type": "markdown",
   "metadata": {},
   "source": [
    "5) 다음 문장에서 파이썬이라는 말이 몇 번 나오는지 알아내고 출처에 < >표시가 있는 것을 이용하여 출처의 url 주소로 추출하여 출력하라. 아래의 실행 예에서 밑줄은 마크다운에서 자동으로 만드는 것으로 출력 시 고려하지 않아도 된다.\n",
    "\n",
    "<출력>   \n",
    "파이썬 단어의 갯수 = 2   \n",
    "참고문헌 url = https://ko.wikipedia.org/wiki/%ED%8C%8C%EC%9D%B4%EC%8D%AC"
   ]
  },
  {
   "cell_type": "code",
   "execution_count": null,
   "metadata": {},
   "outputs": [],
   "source": [
    "# 코드\n",
    "python = '''\n",
    "파이썬[3](영어: Python)은 1991년[4] 네덜란드계 프로그래머인 귀도 반 로섬[5]이 발표한 \n",
    "고급 프로그래밍 언어로, 플랫폼에 독립적이며 인터프리터식, 객체지향적, \n",
    "동적 타이핑(dynamically typed) 대화형 언어이다. \n",
    "파이썬이라는 이름은 귀도가 좋아하는 코미디 \"Monty Python's Flying Circus\"에서 따온 것이다. \n",
    "이름에서 고대신화에 나오는 커다란 뱀을 연상하는 경우도 있겠지만, \n",
    "이와는 무관하다. 다만 로고에는 뱀 두마리가 형상화 되어 있다.\n",
    "출처: 위키백과 <https://ko.wikipedia.org/wiki/%ED%8C%8C%EC%9D%B4%EC%8D%AC>\n",
    "'''''\n",
    "# \"파이썬\" 단어의 갯수\n",
    "print()   # 출력\n",
    "\n",
    "# url 주소 추출\n",
    "pos_start =    # utl 주소 시작 인덱스\n",
    "pos_end =      # url 주소 마지막 인덱스 + 1\n",
    "url =     # url 주소 슬라이싱\n",
    "print()   # 출력"
   ]
  },
  {
   "cell_type": "markdown",
   "metadata": {},
   "source": [
    "6) 다음 문단은 공식 파이썬 문서에서 나오는 내용 중 한 문단이다.   "
   ]
  },
  {
   "cell_type": "code",
   "execution_count": null,
   "metadata": {},
   "outputs": [],
   "source": [
    "# From <https://docs.python.org/3/faq/general.html#why-is-it-called-python>\n",
    "paragraph = \\\n",
    "'''\n",
    "When he began implementing Python, Guido van Rossum was also reading the published scripts \n",
    "from “Monty Python’s Flying Circus”, a BBC comedy series from the 1970s. \n",
    "Van Rossum thought he needed a name that was short, unique, and slightly mysterious, \n",
    "so he decided to call the language Python.\n",
    "'''"
   ]
  },
  {
   "cell_type": "markdown",
   "metadata": {},
   "source": [
    "a) 이 문단에서 나오는 단어의 총 개수 몇개인가. 여기서는 단어에 붙어 있는 문장 부호나 숫자는 단어의 일부로 생각한다.\n",
    "- 힌트) 문장을 소문자로 바꾸고, split() 함수 이용\n",
    "\n",
    "<출력>   \n",
    "Word count =  48\n"
   ]
  },
  {
   "cell_type": "code",
   "execution_count": null,
   "metadata": {},
   "outputs": [],
   "source": [
    "# 코드\n",
    "p_lower =  # 소문자 변환\n",
    "words =    # 단어 추출\n",
    "word_count =    # 단어 개수\n",
    "print()   # 출력"
   ]
  },
  {
   "cell_type": "markdown",
   "metadata": {},
   "source": [
    "b) 이 문단에서 나오는 유일한 단어의 총 개수는 몇개인가?\n",
    "- 힌트) 집합 자료의 성질을 이용한다.\n",
    "\n",
    "<출력>   \n",
    "Unique word count =  39"
   ]
  },
  {
   "cell_type": "code",
   "execution_count": null,
   "metadata": {},
   "outputs": [],
   "source": [
    "unique_word_count =    # 유일한 단어 개수\n",
    "print()   # 출력"
   ]
  },
  {
   "cell_type": "markdown",
   "metadata": {},
   "source": [
    "c) 문단에 포함된 단어 중에서 사전 순서로 처음 10개 단어를 출력하라.\n",
    "- 힌트) 정렬과 리스트의 슬라이싱을 이용\n",
    "\n",
    "<출력>   \n",
    "['1970s.', 'a', 'also', 'and', 'bbc', 'began', 'call', 'circus”,', 'comedy', 'decided']"
   ]
  },
  {
   "cell_type": "code",
   "execution_count": null,
   "metadata": {},
   "outputs": [],
   "source": [
    "# 코드\n",
    "first10_words =     # 처음 10개 단어\n",
    "print(first10_words)"
   ]
  },
  {
   "cell_type": "markdown",
   "metadata": {},
   "source": [
    "7) 다음 튜플에 'peach'를 추가하라.\n",
    "\n",
    "<출력>   \n",
    "('apple', 'kiwi', 'orange', 'peach')"
   ]
  },
  {
   "cell_type": "code",
   "execution_count": null,
   "metadata": {},
   "outputs": [],
   "source": [
    "# 코드\n",
    "fruit = ('apple', 'kiwi', 'orange')\n",
    "fruit =    # 'peach' 추가\n",
    "print(fruit)"
   ]
  },
  {
   "cell_type": "markdown",
   "metadata": {},
   "source": [
    "8)   \n",
    "(a) 다음 dictionary에서 \"고진영\" key에 \"골프\" value를 추가 하라.\n",
    "\n",
    "<출력>   \n",
    "{'김연아': '피겨스케이팅', '류현진': '야구', '박지성': '축구', '귀도': '파이썬', '고진영': '골프'}"
   ]
  },
  {
   "cell_type": "code",
   "execution_count": null,
   "metadata": {},
   "outputs": [],
   "source": [
    "# 코드\n",
    "people = {\"김연아\":\"피겨스케이팅\", \"류현진\":\"야구\", \"박지성\":\"축구\", \"귀도\":\"파이썬\"}\n",
    "     # 딕셔너리 추가 \n",
    "print(people)"
   ]
  },
  {
   "cell_type": "markdown",
   "metadata": {},
   "source": [
    "(b) 딕셔너리의 key를 가나다 순으로 출력하라\n",
    "\n",
    "<출력>   \n",
    "['고진영', '귀도', '김연아', '류현진', '박지성']"
   ]
  },
  {
   "cell_type": "code",
   "execution_count": null,
   "metadata": {},
   "outputs": [],
   "source": [
    "# 코드\n"
   ]
  },
  {
   "cell_type": "markdown",
   "metadata": {},
   "source": [
    "9) 다음 딕셔너리에 있는 점수의 평균을 구하라.\n",
    "- 힌트: list에 sum() 함수 이용\n",
    "    - 예) a = [1, 2, 3] 일 때 sum(a)를 하면 6을 얻는다.\n",
    "    \n",
    "<출력>   \n",
    "총점 =  240"
   ]
  },
  {
   "cell_type": "code",
   "execution_count": null,
   "metadata": {},
   "outputs": [],
   "source": [
    "# 코드\n",
    "grade = {'영어':90, '수학':80, '과학':70}\n",
    "           # values 추출\n",
    "print()    # 출력"
   ]
  }
 ],
 "metadata": {
  "kernelspec": {
   "display_name": "Python 3",
   "language": "python",
   "name": "python3"
  },
  "language_info": {
   "codemirror_mode": {
    "name": "ipython",
    "version": 3
   },
   "file_extension": ".py",
   "mimetype": "text/x-python",
   "name": "python",
   "nbconvert_exporter": "python",
   "pygments_lexer": "ipython3",
   "version": "3.8.5"
  }
 },
 "nbformat": 4,
 "nbformat_minor": 4
}
