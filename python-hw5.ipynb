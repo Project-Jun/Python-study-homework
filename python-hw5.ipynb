{
 "cells": [
  {
   "cell_type": "markdown",
   "metadata": {},
   "source": [
    "## 파이썬 HW5\n",
    "이름: 서준호\n",
    "\n",
    "학번: C389034"
   ]
  },
  {
   "cell_type": "markdown",
   "metadata": {},
   "source": [
    "### 문제 1) 모양\n",
    "주어진 기호와 중앙에서 부호의 최대 길이를 인수로 입력받아 삼각형 모양을 출력하는 함수\n",
    "``` \n",
    "예) triangle('*', 3)   \n",
    "\n",
    "*   \n",
    "**   \n",
    "***   \n",
    "**   \n",
    "*\n",
    "```"
   ]
  },
  {
   "cell_type": "code",
   "execution_count": 6,
   "metadata": {},
   "outputs": [],
   "source": [
    "def triangle(shape, max_num):\n",
    "    for i in range(1, max_num + 1):\n",
    "        print(shape * i)\n",
    "    \n",
    "    for i in range(max_num - 1, 0, -1):\n",
    "        print(shape * i)"
   ]
  },
  {
   "cell_type": "code",
   "execution_count": 8,
   "metadata": {},
   "outputs": [
    {
     "name": "stdout",
     "output_type": "stream",
     "text": [
      "$\n",
      "$$\n",
      "$$$\n",
      "$$$$\n",
      "$$$$$\n",
      "$$$$\n",
      "$$$\n",
      "$$\n",
      "$\n"
     ]
    }
   ],
   "source": [
    "# 문제 1 확인\n",
    "triangle('$', 5)"
   ]
  },
  {
   "cell_type": "markdown",
   "metadata": {},
   "source": [
    "### 문제 2)\n",
    "연도를 입력받아 윤달인지 아닌지 판정하는 함수 is_leap_year() 작성\n",
    "- 연도가 4로 나누어지면 윤년\n",
    "- 예외1: 100으로 나누어지면 윤년이 아님\n",
    "- 예외2: 100으로 나누어지는 해중 400으로 나누어지면 윤년\n",
    "- 입력 검증은 안해도 됨"
   ]
  },
  {
   "cell_type": "code",
   "execution_count": 9,
   "metadata": {},
   "outputs": [],
   "source": [
    "def is_leap_year(year):\n",
    "    if (year % 4 == 0 and year % 100 != 0) or (year % 400 == 0):\n",
    "        return True\n",
    "    else:\n",
    "        return False\n",
    "    \n"
   ]
  },
  {
   "cell_type": "code",
   "execution_count": 19,
   "metadata": {
    "scrolled": true
   },
   "outputs": [
    {
     "name": "stdout",
     "output_type": "stream",
     "text": [
      "2000 년은 윤년\n",
      "2016 년은 윤년\n",
      "2017 년은 윤년이 아님\n",
      "2100 년은 윤년이 아님\n"
     ]
    }
   ],
   "source": [
    "# 문제1 확인\n",
    "test = [2000, 2016, 2017, 2100]\n",
    "for year in test:\n",
    "    if is_leap_year(year):\n",
    "        print(year, \"년은 윤년\")\n",
    "    else:\n",
    "        print(year, \"년은 윤년이 아님\")"
   ]
  },
  {
   "cell_type": "markdown",
   "metadata": {},
   "source": [
    "### 문제 3)\n",
    "아래와 같이 실행되는 비밀번호 확인 프로그램을 작성하라."
   ]
  },
  {
   "cell_type": "markdown",
   "metadata": {},
   "source": [
    "실행 예) <br>\n",
    "비밀번호를 입력하세요: 1234 <br>\n",
    "비밀번호가 틀렸습니다. <br>\n",
    "\n",
    "비밀번호를 입력하세요: my1234 <br>\n",
    "환영합니다."
   ]
  },
  {
   "cell_type": "code",
   "execution_count": 31,
   "metadata": {},
   "outputs": [
    {
     "name": "stdout",
     "output_type": "stream",
     "text": [
      "환영합니다.\n"
     ]
    }
   ],
   "source": [
    "def check():\n",
    "    key = 'my1234'\n",
    "    \n",
    "    while True:\n",
    "        password = input(\"비밀번호를 입력하세요: \")\n",
    "        \n",
    "        if password == key:\n",
    "            print(\"환영합니다.\")\n",
    "            break\n",
    "        else:\n",
    "            print(\"비밀번호가 틀렸습니다.\")\n",
    "\n",
    "check()\n"
   ]
  },
  {
   "cell_type": "code",
   "execution_count": 32,
   "metadata": {},
   "outputs": [
    {
     "name": "stdout",
     "output_type": "stream",
     "text": [
      "비밀번호가 틀렸습니다.\n",
      "환영합니다.\n"
     ]
    }
   ],
   "source": [
    "# 문제3 확인\n",
    "check()     # 1234와 my1234 입력하여 확인"
   ]
  },
  {
   "cell_type": "markdown",
   "metadata": {},
   "source": [
    "### 문제 4)\n",
    "다음 합계를 반환하는 함수 sum_sq()를 작성하라\n",
    "\n",
    "$$  \\sum_{k=1}^{n} k^2 $$"
   ]
  },
  {
   "cell_type": "code",
   "execution_count": 22,
   "metadata": {},
   "outputs": [],
   "source": [
    "def sum_sq(n):\n",
    "    result = 0\n",
    "    \n",
    "    for k in range(1, n+1):\n",
    "        result += k ** 2\n",
    "    \n",
    "    return result"
   ]
  },
  {
   "cell_type": "code",
   "execution_count": 24,
   "metadata": {},
   "outputs": [
    {
     "data": {
      "text/plain": [
       "385"
      ]
     },
     "execution_count": 24,
     "metadata": {},
     "output_type": "execute_result"
    }
   ],
   "source": [
    "# 문제 3 확인\n",
    "sum_sq(10)"
   ]
  },
  {
   "cell_type": "markdown",
   "metadata": {},
   "source": [
    "### 문제 5)\n",
    "주어진 is_prime()함수를 이용해서, 숫자를 입력받아 받은 숫자의 갯수 만큼의 소수를 리스트로 반환하는 함수를 작성하라\n",
    "- argument가 정수인지 검증하지 않음"
   ]
  },
  {
   "cell_type": "code",
   "execution_count": 25,
   "metadata": {},
   "outputs": [],
   "source": [
    "def is_prime(n):\n",
    "    prime = True\n",
    "    if n < 2:\n",
    "        prime = False\n",
    "    else:\n",
    "        for i in range(2, n):\n",
    "            if n % i == 0:\n",
    "                prime = False\n",
    "                break\n",
    "    return prime\n",
    "\n",
    "def get_prime(n):\n",
    "    count = 0\n",
    "    result = []\n",
    "    number = 2\n",
    "    \n",
    "    while count < n:\n",
    "        if is_prime(number):\n",
    "            result.append(number)\n",
    "            count += 1\n",
    "        number += 1\n",
    "    \n",
    "    return result\n"
   ]
  },
  {
   "cell_type": "code",
   "execution_count": 26,
   "metadata": {},
   "outputs": [
    {
     "name": "stdout",
     "output_type": "stream",
     "text": [
      "[2, 3, 5, 7, 11, 13, 17, 19, 23, 29, 31, 37, 41, 43, 47, 53, 59, 61, 67, 71]\n"
     ]
    }
   ],
   "source": [
    "# 문제 4 확인\n",
    "result = get_prime(20)\n",
    "print(result)"
   ]
  },
  {
   "cell_type": "markdown",
   "metadata": {},
   "source": [
    "### 문제 6)\n",
    "크기가 m x n인 2차원 행렬(리스트)에서 주어진 값 x 보다 큰 원소의 리스트와 합을 반환하는 함수를 작성하라"
   ]
  },
  {
   "cell_type": "code",
   "execution_count": 27,
   "metadata": {},
   "outputs": [],
   "source": [
    "def sum_positive_element(a, x):\n",
    "    result = []\n",
    "    result_sum = 0\n",
    "    \n",
    "    for row in a:\n",
    "        for element in row:\n",
    "            if element > x:\n",
    "                result.append(element)\n",
    "                result_sum += element\n",
    "    \n",
    "    return result, result_sum\n"
   ]
  },
  {
   "cell_type": "code",
   "execution_count": 28,
   "metadata": {},
   "outputs": [
    {
     "name": "stdout",
     "output_type": "stream",
     "text": [
      "[8, 9, 10, 11, 12]\n",
      "50\n"
     ]
    }
   ],
   "source": [
    "# 문제 6 확인\n",
    "a = [[1,  2,  3,  4],\n",
    "     [5,  2,  7,  8],\n",
    "     [9, 10, 11, 12]]\n",
    "result_list, result_sum = sum_positive_element(a, 7)\n",
    "print(result_list)\n",
    "print(result_sum)"
   ]
  },
  {
   "cell_type": "markdown",
   "metadata": {},
   "source": [
    "### 문제 7)\n",
    "(a) fibo()함수를 이용하여 n항까지 피보나치 수열의 리스트를 반환하는 함수 get_fibo()을 작성하라.   "
   ]
  },
  {
   "cell_type": "code",
   "execution_count": 29,
   "metadata": {},
   "outputs": [],
   "source": [
    "def fibo(n):\n",
    "    if n == 1 or n == 2:\n",
    "        return 1\n",
    "    \n",
    "    a, b = 1, 1\n",
    "    for i in range(1, n):\n",
    "        a, b = b, a + b  \n",
    "    return a\n",
    "\n",
    "def get_fibo(n):\n",
    "    fibo_list = []\n",
    "    \n",
    "    for i in range(1, n + 1):\n",
    "        fibo_list.append(fibo(i))\n",
    "    \n",
    "    return fibo_list\n",
    "\n"
   ]
  },
  {
   "cell_type": "code",
   "execution_count": 30,
   "metadata": {},
   "outputs": [
    {
     "data": {
      "text/plain": [
       "[1, 1, 2, 3, 5, 8, 13, 21, 34, 55]"
      ]
     },
     "execution_count": 30,
     "metadata": {},
     "output_type": "execute_result"
    }
   ],
   "source": [
    "# 문제 6 (a) 확인\n",
    "get_fibo(10)"
   ]
  },
  {
   "cell_type": "markdown",
   "metadata": {},
   "source": [
    "(b) list comprehension과 fibo()함수를 이용해서 (a)번 문제를 한 줄로 코딩하시오."
   ]
  },
  {
   "cell_type": "code",
   "execution_count": 25,
   "metadata": {},
   "outputs": [
    {
     "data": {
      "text/plain": [
       "[1, 1, 2, 3, 5, 8, 13, 21, 34, 55]"
      ]
     },
     "execution_count": 25,
     "metadata": {},
     "output_type": "execute_result"
    }
   ],
   "source": [
    "# 한줄 코드 작성\n"
   ]
  },
  {
   "cell_type": "markdown",
   "metadata": {},
   "source": [
    "### 문제 8)\n",
    "어떠한 입력이 들어와도 입력으로 들어오는 모든 수의 평균 값을 계산해 주는 함수를 작성하라."
   ]
  },
  {
   "cell_type": "code",
   "execution_count": 33,
   "metadata": {},
   "outputs": [],
   "source": [
    "def avg_numbers(*args):\n",
    "    return sum(args) / len(args) if args else None\n",
    "\n",
    "    "
   ]
  },
  {
   "cell_type": "code",
   "execution_count": 34,
   "metadata": {},
   "outputs": [
    {
     "name": "stdout",
     "output_type": "stream",
     "text": [
      "1.5\n",
      "3.0\n"
     ]
    }
   ],
   "source": [
    "# 문제 8 확인\n",
    "print(avg_numbers(1, 2))\n",
    "print(avg_numbers(1, 2, 3, 4, 5))"
   ]
  },
  {
   "cell_type": "markdown",
   "metadata": {},
   "source": [
    "### 문제 9)\n",
    "다음 리스트는 축구선수의 last name, first name, position, hight(cm), weight(kg)을 리스트로 표시한 자료이다."
   ]
  },
  {
   "cell_type": "code",
   "execution_count": 35,
   "metadata": {},
   "outputs": [],
   "source": [
    "# [Last_name, first_name, position, height_cm, weight_kg]\n",
    "football = [[\"Hwang\", \"Uijo\", \"FW\", 183, 73], \n",
    "         [\"Son\", \"Heungmin\", \"MF\", 183, 78],\n",
    "         [\"Hwang\", \"Heechan\", \"MF\", 177, 77], \n",
    "         [\"Kim\", \"Minjae\", \"DF\",190, 88], \n",
    "         [\"Jo\", \"Hyeonwoos\", \"GK\", 189, 75],\n",
    "         [\"Hong\", \"Chul\", \"DF\", 176, 70],\n",
    "         [\"Park\", \"Jisu\", \"DF\", 187, 77],\n",
    "         [\"Kim\", \"Shinwook\", \"FW\", 196, 93]\n",
    "         ]"
   ]
  },
  {
   "cell_type": "markdown",
   "metadata": {},
   "source": [
    "a) 축구 선수 리스트를 last name 순으로 정렬하라."
   ]
  },
  {
   "cell_type": "code",
   "execution_count": 37,
   "metadata": {
    "scrolled": true
   },
   "outputs": [
    {
     "name": "stdout",
     "output_type": "stream",
     "text": [
      "['Hong', 'Chul', 'DF', 176, 70]\n",
      "['Hwang', 'Uijo', 'FW', 183, 73]\n",
      "['Hwang', 'Heechan', 'MF', 177, 77]\n",
      "['Jo', 'Hyeonwoos', 'GK', 189, 75]\n",
      "['Kim', 'Minjae', 'DF', 190, 88]\n",
      "['Kim', 'Shinwook', 'FW', 196, 93]\n",
      "['Park', 'Jisu', 'DF', 187, 77]\n",
      "['Son', 'Heungmin', 'MF', 183, 78]\n"
     ]
    }
   ],
   "source": [
    "football.sort(key=lambda player: player[0])\n",
    "\n",
    "for player in football:\n",
    "    print(player)\n"
   ]
  },
  {
   "cell_type": "markdown",
   "metadata": {},
   "source": [
    "b) 축구 선수 리스트를 키의 역순으로 정렬하시오."
   ]
  },
  {
   "cell_type": "code",
   "execution_count": 38,
   "metadata": {},
   "outputs": [
    {
     "name": "stdout",
     "output_type": "stream",
     "text": [
      "['Kim', 'Shinwook', 'FW', 196, 93]\n",
      "['Kim', 'Minjae', 'DF', 190, 88]\n",
      "['Jo', 'Hyeonwoos', 'GK', 189, 75]\n",
      "['Park', 'Jisu', 'DF', 187, 77]\n",
      "['Hwang', 'Uijo', 'FW', 183, 73]\n",
      "['Son', 'Heungmin', 'MF', 183, 78]\n",
      "['Hwang', 'Heechan', 'MF', 177, 77]\n",
      "['Hong', 'Chul', 'DF', 176, 70]\n"
     ]
    }
   ],
   "source": [
    "sorted_players = sorted(football, key=lambda player: player[3], reverse=True)\n",
    "\n",
    "for player in sorted_players:\n",
    "    print(player)"
   ]
  },
  {
   "cell_type": "markdown",
   "metadata": {},
   "source": [
    "c) 축구 선수 리스트를 키가 180이상인 선수를 체중이 무거운 순서부터 정렬하시오"
   ]
  },
  {
   "cell_type": "code",
   "execution_count": 41,
   "metadata": {},
   "outputs": [
    {
     "name": "stdout",
     "output_type": "stream",
     "text": [
      "['Hong', 'Chul', 'DF', 176, 70]\n",
      "['Hwang', 'Heechan', 'MF', 177, 77]\n",
      "['Hwang', 'Uijo', 'FW', 183, 73]\n",
      "['Son', 'Heungmin', 'MF', 183, 78]\n",
      "['Park', 'Jisu', 'DF', 187, 77]\n",
      "['Jo', 'Hyeonwoos', 'GK', 189, 75]\n",
      "['Kim', 'Minjae', 'DF', 190, 88]\n",
      "['Kim', 'Shinwook', 'FW', 196, 93]\n"
     ]
    }
   ],
   "source": [
    "heavy_players = sorted(football, key=lambda player: (player[3], player[4]))\n",
    "\n",
    "for player in heavy_players:\n",
    "    print(player)\n"
   ]
  },
  {
   "cell_type": "markdown",
   "metadata": {},
   "source": [
    "d) list comprehensio을 이용해서 축구 선수 리스트에서 full name list를 만드시오    \n",
    "full name = first name + last name   \n",
    "ex) Heungmin Son"
   ]
  },
  {
   "cell_type": "code",
   "execution_count": 42,
   "metadata": {},
   "outputs": [
    {
     "name": "stdout",
     "output_type": "stream",
     "text": [
      "Chul Hong\n",
      "Uijo Hwang\n",
      "Heechan Hwang\n",
      "Hyeonwoos Jo\n",
      "Minjae Kim\n",
      "Shinwook Kim\n",
      "Jisu Park\n",
      "Heungmin Son\n"
     ]
    }
   ],
   "source": [
    "full_names = [f\"{player[1]} {player[0]}\" for player in football]\n",
    "\n",
    "for name in full_names:\n",
    "    print(name)\n"
   ]
  }
 ],
 "metadata": {
  "kernelspec": {
   "display_name": "Python 3",
   "language": "python",
   "name": "python3"
  },
  "language_info": {
   "codemirror_mode": {
    "name": "ipython",
    "version": 3
   },
   "file_extension": ".py",
   "mimetype": "text/x-python",
   "name": "python",
   "nbconvert_exporter": "python",
   "pygments_lexer": "ipython3",
   "version": "3.8.5"
  }
 },
 "nbformat": 4,
 "nbformat_minor": 4
}
